{
  "nbformat": 4,
  "nbformat_minor": 0,
  "metadata": {
    "colab": {
      "provenance": [],
      "include_colab_link": true
    },
    "kernelspec": {
      "name": "python3",
      "display_name": "Python 3"
    },
    "language_info": {
      "name": "python"
    }
  },
  "cells": [
    {
      "cell_type": "markdown",
      "metadata": {
        "id": "view-in-github",
        "colab_type": "text"
      },
      "source": [
        "<a href=\"https://colab.research.google.com/github/Lilianllland/JPM-Simulation/blob/main/Nat_Gas_Prediction.ipynb\" target=\"_parent\"><img src=\"https://colab.research.google.com/assets/colab-badge.svg\" alt=\"Open In Colab\"/></a>"
      ]
    },
    {
      "cell_type": "code",
      "execution_count": 143,
      "metadata": {
        "id": "s2I_DM1JlHwA"
      },
      "outputs": [],
      "source": [
        "import pandas as pd\n",
        "import numpy as np\n"
      ]
    },
    {
      "cell_type": "code",
      "source": [
        "df = pd.read_csv('/content/Nat_Gas.csv',index_col= 'Dates', parse_dates=True) #make sure pandas get right date format\n",
        "df= df.dropna()\n",
        "print('Shape of data', df.shape)\n",
        "df.head()"
      ],
      "metadata": {
        "id": "ys8K7ZgHlPQZ"
      },
      "execution_count": null,
      "outputs": []
    },
    {
      "cell_type": "code",
      "source": [
        "df['Prices'].plot(figsize=(12,5))"
      ],
      "metadata": {
        "id": "-1xcGFLVcd-T"
      },
      "execution_count": null,
      "outputs": []
    },
    {
      "cell_type": "markdown",
      "source": [
        "Check for Stationary"
      ],
      "metadata": {
        "id": "Uw3Khh73dUKQ"
      }
    },
    {
      "cell_type": "code",
      "source": [
        "from statsmodels.tsa.stattools import adfuller\n",
        "\n",
        "def ad_test(dataset):\n",
        "  dftest = adfuller(dataset, autolag = 'AIC')\n",
        "  print(\"1. ADF : \",dftest[0])\n",
        "  print(\"2. P-Value : \", dftest[1])\n",
        "  print(\"3. Num Of Lags : \", dftest[2])\n",
        "  print(\"4. Num Of Observations Used For ADF Regression and Critical Values Calculation :\", dftest[3])\n",
        "  print(\"5. Critical Values :\")\n",
        "  for key, val in dftest[4].items():\n",
        "      print(\"\\t\",key, \": \", val)"
      ],
      "metadata": {
        "id": "nWk23HnAc0Z7"
      },
      "execution_count": 206,
      "outputs": []
    },
    {
      "cell_type": "code",
      "source": [
        "ad_test(df['Prices'])"
      ],
      "metadata": {
        "colab": {
          "base_uri": "https://localhost:8080/"
        },
        "id": "xFqgUe9nc0XU",
        "outputId": "01866089-0144-48e6-e810-b6e44bbdf72f"
      },
      "execution_count": 207,
      "outputs": [
        {
          "output_type": "stream",
          "name": "stdout",
          "text": [
            "1. ADF :  0.21807686169999427\n",
            "2. P-Value :  0.973257438844869\n",
            "3. Num Of Lags :  10\n",
            "4. Num Of Observations Used For ADF Regression and Critical Values Calculation : 37\n",
            "5. Critical Values :\n",
            "\t 1% :  -3.6209175221605827\n",
            "\t 5% :  -2.9435394610388332\n",
            "\t 10% :  -2.6104002410518627\n"
          ]
        }
      ]
    },
    {
      "cell_type": "markdown",
      "source": [
        "P-Value :  0.973257438844869 >= 0.05, which accepts our hypothesis that the Price is non-stationary.\n",
        "\n",
        "The natural gas prices is **non-stationary**. It has ***Trends*** and ***Seasonality***."
      ],
      "metadata": {
        "id": "8Xzqte3HgyHa"
      }
    },
    {
      "cell_type": "markdown",
      "source": [
        "Then, let's figure out orders for ARIMA Model"
      ],
      "metadata": {
        "id": "2JLtXI3WhaEV"
      }
    },
    {
      "cell_type": "code",
      "source": [
        "!pip install pmdarima"
      ],
      "metadata": {
        "id": "88JTbNGNjWxz"
      },
      "execution_count": null,
      "outputs": []
    },
    {
      "cell_type": "code",
      "source": [
        "from pmdarima import auto_arima\n",
        "import warnings\n",
        "warnings.filterwarnings(\"ignore\")"
      ],
      "metadata": {
        "id": "PyvgwvRvc0TR"
      },
      "execution_count": 209,
      "outputs": []
    },
    {
      "cell_type": "code",
      "source": [
        "stepwise_fit = auto_arima(df['Prices'], trace=True,\n",
        "                          suppress_warnings=True)\n",
        "\n",
        "stepwise_fit.summary()"
      ],
      "metadata": {
        "id": "xR3h2EAmc0RL"
      },
      "execution_count": null,
      "outputs": []
    },
    {
      "cell_type": "markdown",
      "source": [
        "*  Best model always be the smallest AIC value ARIMA\n",
        "\n",
        "*  SARIMA is ARIMA with seasonality."
      ],
      "metadata": {
        "id": "RoFFqQoVjm7E"
      }
    },
    {
      "cell_type": "markdown",
      "source": [
        "Differencing"
      ],
      "metadata": {
        "id": "EdRGPaPZ95gp"
      }
    },
    {
      "cell_type": "code",
      "source": [
        "df['Prices First Difference'] = df['Prices'] - df['Prices'].shift(1)"
      ],
      "metadata": {
        "id": "zJH1DgqRc0Ow"
      },
      "execution_count": 211,
      "outputs": []
    },
    {
      "cell_type": "code",
      "source": [
        "df['Prices'].shift(1)"
      ],
      "metadata": {
        "id": "vvnEMLPqc0GK"
      },
      "execution_count": null,
      "outputs": []
    },
    {
      "cell_type": "code",
      "source": [
        "df['Seasonal First Difference'] = df['Prices'] - df['Prices'].shift(12) #instead of 1, we use 12 to predict by season."
      ],
      "metadata": {
        "id": "aUvU8NUDgeoC"
      },
      "execution_count": 222,
      "outputs": []
    },
    {
      "cell_type": "code",
      "source": [
        "df.tail(14)"
      ],
      "metadata": {
        "id": "MwOIMeewgelV"
      },
      "execution_count": null,
      "outputs": []
    },
    {
      "cell_type": "code",
      "source": [
        "from statsmodels.tsa.stattools import adfuller"
      ],
      "metadata": {
        "id": "RXxfn7XL-VHF"
      },
      "execution_count": 221,
      "outputs": []
    },
    {
      "cell_type": "code",
      "source": [
        "test_result=adfuller(df['Prices'])"
      ],
      "metadata": {
        "id": "YRHf09aB-VEt"
      },
      "execution_count": 29,
      "outputs": []
    },
    {
      "cell_type": "code",
      "source": [
        "def adfuller_test(prices):\n",
        "    result=adfuller(prices)\n",
        "    labels = ['ADF Test Statistic','p-value','#Lags Used','Number of Observations Used']\n",
        "    for value,label in zip(result,labels):\n",
        "        print(label+' : '+str(value) )\n",
        "    if result[1] <= 0.05:\n",
        "        print(\"strong evidence against the null hypothesis(Ho), reject the null hypothesis. Data has no unit root and is stationary\")\n",
        "    else:\n",
        "        print(\"weak evidence against null hypothesis, time series has a unit root, indicating it is non-stationary \")\n",
        ""
      ],
      "metadata": {
        "id": "Q4934dZ3gee1"
      },
      "execution_count": 219,
      "outputs": []
    },
    {
      "cell_type": "code",
      "source": [
        "adfuller_test(df['Seasonal First Difference'].dropna())"
      ],
      "metadata": {
        "id": "yrb0D_0Ageaz"
      },
      "execution_count": null,
      "outputs": []
    },
    {
      "cell_type": "code",
      "source": [
        "df['Seasonal First Difference'].plot()"
      ],
      "metadata": {
        "id": "huuMFPlQgeYv"
      },
      "execution_count": null,
      "outputs": []
    },
    {
      "cell_type": "code",
      "source": [
        "import matplotlib.pyplot as plt"
      ],
      "metadata": {
        "id": "-8f-HfPVCfWP"
      },
      "execution_count": 226,
      "outputs": []
    },
    {
      "cell_type": "code",
      "source": [
        "import statsmodels.api as sm"
      ],
      "metadata": {
        "id": "kJBMoo8qCoRY"
      },
      "execution_count": 227,
      "outputs": []
    },
    {
      "cell_type": "code",
      "source": [
        "from statsmodels.tsa.arima.model import ARIMA"
      ],
      "metadata": {
        "id": "Bv9s4Xu_geOv"
      },
      "execution_count": 228,
      "outputs": []
    },
    {
      "cell_type": "code",
      "source": [
        "model=ARIMA(df['Prices'],order=(1,1,1))\n",
        "model_fit=model.fit()"
      ],
      "metadata": {
        "id": "YrDA6zvZgeGV"
      },
      "execution_count": 230,
      "outputs": []
    },
    {
      "cell_type": "code",
      "source": [
        "model_fit.summary()"
      ],
      "metadata": {
        "id": "J3ZP9wZ2_ef2"
      },
      "execution_count": null,
      "outputs": []
    },
    {
      "cell_type": "code",
      "source": [
        "model=sm.tsa.statespace.SARIMAX(df['Prices'],order=(1,1,1),seasonal_order=(1,1,1,12))\n",
        "results=model.fit()"
      ],
      "metadata": {
        "id": "oyY1XBSY_eXq"
      },
      "execution_count": 281,
      "outputs": []
    },
    {
      "cell_type": "code",
      "source": [
        "df['forecast']=results.predict(start=30,end=48,dynamic=True)\n",
        "df[['Prices','forecast']].plot(figsize=(12,8))"
      ],
      "metadata": {
        "id": "CRk67vkA_eVe"
      },
      "execution_count": null,
      "outputs": []
    },
    {
      "cell_type": "code",
      "source": [
        "df.count()"
      ],
      "metadata": {
        "id": "W5wEYtCKnjpS"
      },
      "execution_count": null,
      "outputs": []
    },
    {
      "cell_type": "code",
      "source": [
        "from pandas.tseries.offsets import DateOffset\n",
        "future_dates=[df.index[-1]+ DateOffset(months=x)for x in range(0,24)]"
      ],
      "metadata": {
        "id": "lDcXAZO__eTa"
      },
      "execution_count": 277,
      "outputs": []
    },
    {
      "cell_type": "code",
      "source": [
        "future_datest_df=pd.DataFrame(index=future_dates[1:],columns=df.columns)"
      ],
      "metadata": {
        "id": "GSdmqvQK_eRR"
      },
      "execution_count": 278,
      "outputs": []
    },
    {
      "cell_type": "code",
      "source": [
        "future_df=pd.concat([df,future_datest_df])"
      ],
      "metadata": {
        "id": "Mq6Uw0Lr_eMw"
      },
      "execution_count": 279,
      "outputs": []
    },
    {
      "cell_type": "code",
      "source": [
        "future_df['forecast'] = results.predict(start =49, end = 63, dynamic=True)\n",
        "future_df[['Prices', 'forecast']].plot(figsize=(12, 8))"
      ],
      "metadata": {
        "id": "whOU9DxO_eK7"
      },
      "execution_count": null,
      "outputs": []
    },
    {
      "cell_type": "markdown",
      "source": [],
      "metadata": {
        "id": "4CDtuetUqNLW"
      }
    }
  ]
}
